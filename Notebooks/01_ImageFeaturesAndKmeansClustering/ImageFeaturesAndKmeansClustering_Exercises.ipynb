{
  "nbformat": 4,
  "nbformat_minor": 0,
  "metadata": {
    "colab": {
      "name": "ImageFeaturesAndKmeansClustering_Exercises.ipynb",
      "provenance": [],
      "collapsed_sections": [],
      "include_colab_link": true
    },
    "kernelspec": {
      "display_name": "Python 3",
      "language": "python",
      "name": "python3"
    },
    "language_info": {
      "codemirror_mode": {
        "name": "ipython",
        "version": 3
      },
      "file_extension": ".py",
      "mimetype": "text/x-python",
      "name": "python",
      "nbconvert_exporter": "python",
      "pygments_lexer": "ipython3",
      "version": "3.7.4"
    }
  },
  "cells": [
    {
      "cell_type": "markdown",
      "metadata": {
        "id": "view-in-github",
        "colab_type": "text"
      },
      "source": [
        "<a href=\"https://colab.research.google.com/github/anaaparamesh/Week3_Public/blob/master/Notebooks/01_ImageFeaturesAndKmeansClustering/ImageFeaturesAndKmeansClustering_Exercises.ipynb\" target=\"_parent\"><img src=\"https://colab.research.google.com/assets/colab-badge.svg\" alt=\"Open In Colab\"/></a>"
      ]
    },
    {
      "cell_type": "markdown",
      "metadata": {
        "id": "Soed7Gx8F1gb",
        "colab_type": "text"
      },
      "source": [
        "# Introduction\n",
        "\n",
        "In this notebook you will be creating your own Kmeans algorithm (and comparing to the sci-kit Kmeans algorithm) and extracting different features from the same dataset used in the tutorial. As usual, we begin by importing anything we are going to need."
      ]
    },
    {
      "cell_type": "code",
      "metadata": {
        "id": "QLIvL-G8efUF",
        "colab_type": "code",
        "colab": {}
      },
      "source": [
        "# Basic operating system (os), numerical, and plotting functionality\n",
        "import os\n",
        "import numpy as np\n",
        "import matplotlib.pyplot as plt\n",
        "import pandas as pd\n",
        "\n",
        "# scipy statistics functions\n",
        "from scipy.stats import mode\n",
        "from scipy.stats import moment\n",
        "\n",
        "# scikit-learn data utilities\n",
        "from sklearn.datasets import make_blobs\n",
        "from sklearn.utils import shuffle\n",
        "from sklearn.model_selection import train_test_split\n",
        "\n",
        "# Color transformations\n",
        "from skimage.color import rgb2lab\n",
        "\n",
        "# Feature extractors and classification algorithm\n",
        "from skimage.feature import greycomatrix, greycoprops\n",
        "from skimage.feature import local_binary_pattern\n",
        "from sklearn.cluster import KMeans\n",
        "\n",
        "# scikit-learn performance metric utilities\n",
        "from sklearn.metrics import accuracy_score\n",
        "from sklearn.metrics import confusion_matrix\n",
        "from sklearn.metrics import completeness_score"
      ],
      "execution_count": 1,
      "outputs": []
    },
    {
      "cell_type": "code",
      "metadata": {
        "id": "RJ3JHQ21IW9_",
        "colab_type": "code",
        "colab": {}
      },
      "source": [
        "# Set plotting preferences\n",
        "import matplotlib\n",
        "%matplotlib inline\n",
        "font = {'family' : 'sans-serif',\n",
        "        'weight' : 'normal',\n",
        "        'size'   : 16}\n",
        "matplotlib.rc('font', **font)"
      ],
      "execution_count": 2,
      "outputs": []
    },
    {
      "cell_type": "markdown",
      "metadata": {
        "id": "Bgrr6RhOtRRM",
        "colab_type": "text"
      },
      "source": [
        "# Write Your Own Kmeans Algorithm\n",
        "\n",
        "You can learn more about Kmeans here: https://scikit-learn.org/stable/modules/generated/sklearn.cluster.KMeans.html \n"
      ]
    },
    {
      "cell_type": "markdown",
      "metadata": {
        "id": "mnNIWL9uItaE",
        "colab_type": "text"
      },
      "source": [
        "## Building Your kmeans Function\n",
        "In the following code cells, you will flesh out the necessary components of the Kmeans algorithm. Look for the marker to `-999` indicate lines that need to be completed."
      ]
    },
    {
      "cell_type": "code",
      "metadata": {
        "id": "JF9hgIGiQdTn",
        "colab_type": "code",
        "colab": {}
      },
      "source": [
        "def get_distances(data, cluster_centers):\n",
        "    \"\"\"Computes the distance between each data point an a cluster center\"\"\"\n",
        "    # Count the number of data points and number  of clusters expected\n",
        "    num_dim, num_points = data.shape\n",
        "    _, num_clusters = cluster_centers.shape\n",
        "\n",
        "    # Initialize an array to store distances between clusters centers and points\n",
        "    distances = np.zeros((num_clusters, num_points))\n",
        "\n",
        "    # Loop over each cluster and perform distance calculations\n",
        "    for iclust in range(num_clusters):\n",
        "        # Grab and reshape the cluster center at this index\n",
        "        this_center = cluster_centers[:, iclust].reshape((num_dim, 1))\n",
        "\n",
        "        # Compute the positional difference between data and cluster center\n",
        "        data_offset = np.subtract(data, this_center)# <-- Modify this line to get the positional offset\n",
        "\n",
        "        # Use the Euclidean metric to compute the distance\n",
        "        # distance = sqrt(sum_i { (p_i - p_i_0)**2} ) <-- where `p_i` indicates\n",
        "        #                                                 the position along the\n",
        "        #                                                 `i-th` dimension.\n",
        "        data_offset_sq = np.square(data_offset) # <-- Compute the offset squared on this line\n",
        "\n",
        "        # We are going to accelerate the summation process by using the `axis=0`\n",
        "        # keyword argument of the `np.sum` function. This causes the `np.sums\n",
        "        # function to add all the elements along the first (0-th) axis. This is\n",
        "        # the axis that indexes the (x, y, z, etc...) of our data. Thus, in the\n",
        "        # two dimensional case, this is equivalent to the familiar\n",
        "        #\n",
        "        # sqrt((x - x0)**2 + (y - y0)**2) <-- Pythagorean theorem\n",
        "        #\n",
        "        # In three dimensions it is\n",
        "        #\n",
        "        # sqrt((x - x0)**2 + (y - y0)**2 + (z - z0)**2)\n",
        "        #\n",
        "        # and so on... Using the `axis` keyword, we can allow `data` to\n",
        "        # represent positions in *any* number of dimensions. You can learn more\n",
        "        # here: https://numpy.org/doc/stable/reference/generated/numpy.sum.html\n",
        "        this_distances = np.sqrt(np.sum(data_offset_sq, axis=0))\n",
        "\n",
        "        # Store the computed distances in the output array\n",
        "        distances[iclust] = this_distances\n",
        "\n",
        "    return distances"
      ],
      "execution_count": 3,
      "outputs": []
    },
    {
      "cell_type": "code",
      "metadata": {
        "id": "nTRFT5IzQiVD",
        "colab_type": "code",
        "colab": {}
      },
      "source": [
        "def get_new_cluster_centers(data, cluster_indices):\n",
        "    \"\"\"Computes cluster center using the indices assigned to each data point\"\"\"\n",
        "    # Count the number of clusters to be assigned\n",
        "    num_dim, num_points = data.shape\n",
        "    num_clusters = np.unique(cluster_indices).size\n",
        "\n",
        "    # Initialize an array to store the cluster centers\n",
        "    cluster_centers = np.zeros((num_dim, num_clusters))\n",
        "\n",
        "    # Loop over each cluster and locate which data points \n",
        "    for iclust in range(num_clusters):\n",
        "        # We can use the `np.where` function to grab the indices at which\n",
        "        # the values of `nearest_cluster_ind` is equal to cluster index `iclust`\n",
        "        this_cluster_mask = cluster_indices == iclust # <-- Locate where the cluster index is equal to this cluster index\n",
        "        this_cluster_inds = np.where(this_cluster_mask)[0]\n",
        "\n",
        "        # Compute the mean position of the data points at the indices now stored\n",
        "        # in the `this_cluster_inds` variable. Try using that `axis` keyword!\n",
        "        this_center = this_center = np.mean(data[:, this_cluster_inds], axis=1)# <-- Compute the mean position\n",
        "\n",
        "        # Store this cluster center in the output array\n",
        "        cluster_centers[:, iclust] = this_center\n",
        "\n",
        "    return cluster_centers"
      ],
      "execution_count": 33,
      "outputs": []
    },
    {
      "cell_type": "code",
      "metadata": {
        "id": "QtZNcrOjI8CL",
        "colab_type": "code",
        "colab": {}
      },
      "source": [
        "def my_kmeans_function(data, num_clusters, num_iterations):\n",
        "    \"\"\"\n",
        "    Applies the Kmeans clustering algorithm to the `data`\n",
        "\n",
        "    Arguments\n",
        "    ---------\n",
        "    data : ndarray, shape (num_dim, num_points)\n",
        "        All of the data to be clustered.\n",
        "\n",
        "    num_clusters : int\n",
        "        The number of clusters to use in the clustering process\n",
        "\n",
        "    num_iterations : int\n",
        "        The number of times to loop over the clustering process\n",
        "    \"\"\"\n",
        "    # Get number of dimensions for data\n",
        "    num_dim, num_points = data.shape\n",
        "\n",
        "    # We can use some randomly selected data points as starting guesses for\n",
        "    # the cluster centers. These are guaranteed to be within the data range!\n",
        "    random_data_inds = np.random.choice(num_points, num_clusters, replace=False)\n",
        "    cluster_centers = data[:, random_data_inds]\n",
        "\n",
        "    # # Generate some random cluster center starting points. We are using that\n",
        "    # # nifty `axis` keyword described in the functions above.\n",
        "    # dmin = data.min(axis=1).reshape((num_dim, 1))   # Data min along each dim.\n",
        "    # dmax = data.max(axis=1).reshape((num_dim, 1))   # Data max along each dim.\n",
        "    # drange = (dmax - dmin)                          # Data range along each dim.\n",
        "\n",
        "    # # Generate some random starting points, then scale and re-center them\n",
        "    # cluster_centers = np.random.random(size=(num_dim, num_clusters))\n",
        "    # cluster_centers = drange*cluster_centers + dmin\n",
        "\n",
        "    # Perform the requested number of iterations\n",
        "    for iiter in range(num_iterations):\n",
        "        # Compute the distance betwen each data-point and cluster-center\n",
        "        distances = get_distances(data, cluster_centers)# <-- use one of your functions from above\n",
        "\n",
        "        # Grab the cluster index for which the euclidian distance is smallest\n",
        "        # In case you did not know about the `argmin` method, it is pretty neat:\n",
        "        # https://numpy.org/doc/stable/reference/generated/numpy.argmin.html\n",
        "        nearest_cluster_ind = distances.argmin(axis=0)\n",
        "\n",
        "        # Compute new cluster cunters based on nearest cluster indexing\n",
        "        cluster_centers =  get_new_cluster_centers(data, nearest_cluster_ind)# <-- use one of your functions from above\n",
        "\n",
        "    return cluster_centers"
      ],
      "execution_count": 34,
      "outputs": []
    },
    {
      "cell_type": "markdown",
      "metadata": {
        "id": "FinwX0jdFsak",
        "colab_type": "text"
      },
      "source": [
        "## Generate and Visualize Some Clustered Data\n",
        "\n",
        "Conveniently, scikit-learn provides a function to generate some \"blobs\" of clustered data for us to test our Kmeans algorithm."
      ]
    },
    {
      "cell_type": "code",
      "metadata": {
        "id": "kkFn8yTGxkCq",
        "colab_type": "code",
        "colab": {}
      },
      "source": [
        "# Creating and visualizing a random datset using sklearn's make_blobs\n",
        "data, actual_cluster = make_blobs(n_samples=600, centers=3, cluster_std=0.80,\n",
        "                                  random_state=0)\n",
        "\n",
        "# Transpose data to be a bit more consistent with conventions in this notebook\n",
        "data = data.T"
      ],
      "execution_count": 38,
      "outputs": []
    },
    {
      "cell_type": "code",
      "metadata": {
        "id": "-WUiEnO5t90y",
        "colab_type": "code",
        "colab": {
          "base_uri": "https://localhost:8080/",
          "height": 35
        },
        "outputId": "7f11fda7-8739-4dc9-a538-32c86e24f37d"
      },
      "source": [
        "# Apply the Kmeans algorithm from above\n",
        "num_clusters = 3\n",
        "num_iterations = 10\n",
        "cluster_centers = my_kmeans_function(data, num_clusters, num_iterations)\n",
        "\n",
        "# Estimate which cluster each datapoint belongs to using nearest neighbor from\n",
        "# estimated cluster centers. We can just repeat some lines from our Kmeans...\n",
        "distances = get_distances(data, cluster_centers)\n",
        "nearest_cluster_ind = distances.argmin(axis=0)\n",
        "\n",
        "# Loop over each cluster and build a dictionary mapping from the cluster index\n",
        "# in `nearest_cluster_ind` to the actual cluster number used when generating the\n",
        "# original data.\n",
        "est_to_true_map = {}\n",
        "for iclust in range(num_clusters):\n",
        "    # Grab the *most common* true cluster number associated with this index\n",
        "    this_cluster_mask = nearest_cluster_ind == iclust\n",
        "    this_est_to_true = mode(actual_cluster[np.where(this_cluster_mask)])[0][0]\n",
        "    est_to_true_map[iclust] = this_est_to_true\n",
        "\n",
        "# Now, apply this mapping to the data in `nearest_cluster_ind`\n",
        "# Here, we are using a technique called \"list comprehension.\" It is *also*\n",
        "# pretty nifty and worth knowing about. You can read more here:\n",
        "# https://docs.python.org/3/tutorial/datastructures.html#list-comprehensions\n",
        "estimated_cluster = np.array([est_to_true_map[i] for i in nearest_cluster_ind])\n",
        "\n",
        "# Compute a classification accuracy\n",
        "accuracy = accuracy_score(actual_cluster, estimated_cluster)\n",
        "print(accuracy)"
      ],
      "execution_count": 39,
      "outputs": [
        {
          "output_type": "stream",
          "text": [
            "0.975\n"
          ],
          "name": "stdout"
        }
      ]
    },
    {
      "cell_type": "markdown",
      "metadata": {
        "id": "18cNsqMlgCse",
        "colab_type": "text"
      },
      "source": [
        "Let's visualize the results of this Kmeans clustering attempt."
      ]
    },
    {
      "cell_type": "code",
      "metadata": {
        "id": "HoVU2byVgBZH",
        "colab_type": "code",
        "colab": {
          "base_uri": "https://localhost:8080/",
          "height": 528
        },
        "outputId": "5007ada1-e7fd-4164-838f-aea924c40d31"
      },
      "source": [
        "# Visualize that data\n",
        "fig, ax_arr = plt.subplots(1, 2, figsize=(16, 8))\n",
        "\n",
        "# Loop over each cluster and plot its data (with aunique color!)\n",
        "for iax in range(2):\n",
        "    for iclust in np.unique(actual_cluster):\n",
        "        if iax == 0:\n",
        "            cluster_data = data[:, np.where(actual_cluster == iclust)]\n",
        "        elif iax == 1:\n",
        "            cluster_data = data[:, np.where(estimated_cluster == iclust)]\n",
        "\n",
        "        # Actually plat the clusters\n",
        "        ax_arr[iax].scatter(*cluster_data)\n",
        "\n",
        "    # Add some annotation and formatting\n",
        "    ax_arr[iax].axis('equal')\n",
        "    ax_arr[iax].set_title(['True Clusters', 'Predicted Clusters'][iax])\n",
        "    ax_arr[iax].set_xlabel('X')\n",
        "    ax_arr[iax].set_ylabel('Y')\n",
        "\n",
        "plt.show()"
      ],
      "execution_count": 40,
      "outputs": [
        {
          "output_type": "display_data",
          "data": {
            "image/png": "[encoded data removed]",
            "text/plain": [
              "<Figure size 1152x576 with 2 Axes>"
            ]
          },
          "metadata": {
            "tags": [],
            "needs_background": "light"
          }
        }
      ]
    },
    {
      "cell_type": "markdown",
      "metadata": {
        "id": "vQUySMRNayzw",
        "colab_type": "text"
      },
      "source": [
        "This Kmeans example was initialized using some blobs with a small amount of overlap. What happens if you adjust the parameters of the cluster-generating code.\n",
        "\n",
        "* Broader clusters `cluster_std`: ???\n",
        "* More data points `n_samples`: ???\n",
        "* Number of blobs `centers`: ???\n",
        "\n",
        "(**YOUR ANSWER ABOVE**)\n",
        "If all the parameters are increased the accuracy drops dramatically"
      ]
    },
    {
      "cell_type": "markdown",
      "metadata": {
        "id": "WMVJLALtuqt7",
        "colab_type": "text"
      },
      "source": [
        "# More Feature Extraction\n",
        "\n",
        "As we saw in the last section of the tutorial notebook, it is possible to extract a set of descriptive features from an image (much like was done with 1D signals in the previous week). In the following section, we will work through several examples of feature extraction and image classification with Kmeans using those extracted features."
      ]
    },
    {
      "cell_type": "markdown",
      "metadata": {
        "id": "YvaM291Iuuq3",
        "colab_type": "text"
      },
      "source": [
        "## Histogram Features\n",
        "\n",
        "There are several histogram features that can be applied in the context of image processing. \n",
        "\n",
        "One featue is the mean, or intensity value of all of the pixels in the image. This can be thought of as the average brightness of the entire image.\n",
        "\n",
        "Another feature is the variance, which explains how close pixel intensity values are to each other. A low variance would explain that most of the pixel values are extremely close together, while a high variance would indicate that pixel values vary more and are spead around the mean. \n",
        "\n",
        "The standard deviation is the the variance squared.\n",
        "\n",
        "You can read more about histogram features in the context of pictures here: http://www.giassa.net/?page_id=470"
      ]
    },
    {
      "cell_type": "code",
      "metadata": {
        "id": "ywKX7UQH2GOu",
        "colab_type": "code",
        "colab": {
          "base_uri": "https://localhost:8080/",
          "height": 104
        },
        "outputId": "0f9c170e-45e2-4268-b2c1-e4a9ded2ba2b"
      },
      "source": [
        "# Define the current directory and the directory where the files to download can\n",
        "# be found\n",
        "current_dir = '/content'\n",
        "remote_path = 'https://github.com/BeaverWorksMedlytics2020/Data_Public/raw/master/NotebookExampleData/Week3/data_nuclei/crc/'\n",
        "\n",
        "data_dir = '/content/crc_data'\n",
        "if not os.path.isdir(data_dir):\n",
        "  os.mkdir(data_dir)\n",
        "\n",
        "os.chdir(data_dir)\n",
        "for ii in range(1, 6):\n",
        "    basename = f'rgb0{ii}.npz'\n",
        "    filename = os.path.join(remote_path, basename)\n",
        "\n",
        "    if not os.path.isfile(basename):\n",
        "      cmd = f'wget {filename}'\n",
        "      print(cmd)\n",
        "      os.system(cmd)\n",
        "\n",
        "os.chdir(current_dir)"
      ],
      "execution_count": 9,
      "outputs": [
        {
          "output_type": "stream",
          "text": [
            "wget https://github.com/BeaverWorksMedlytics2020/Data_Public/raw/master/NotebookExampleData/Week3/data_nuclei/crc/rgb01.npz\n",
            "wget https://github.com/BeaverWorksMedlytics2020/Data_Public/raw/master/NotebookExampleData/Week3/data_nuclei/crc/rgb02.npz\n",
            "wget https://github.com/BeaverWorksMedlytics2020/Data_Public/raw/master/NotebookExampleData/Week3/data_nuclei/crc/rgb03.npz\n",
            "wget https://github.com/BeaverWorksMedlytics2020/Data_Public/raw/master/NotebookExampleData/Week3/data_nuclei/crc/rgb04.npz\n",
            "wget https://github.com/BeaverWorksMedlytics2020/Data_Public/raw/master/NotebookExampleData/Week3/data_nuclei/crc/rgb05.npz\n"
          ],
          "name": "stdout"
        }
      ]
    },
    {
      "cell_type": "code",
      "metadata": {
        "id": "6iFg1G_7GUA9",
        "colab_type": "code",
        "colab": {}
      },
      "source": [
        "# Define a function to load the data from the assumed download path\n",
        "def load_images(colorspace='rgb'):\n",
        "    colorspace_lower = colorspace.lower()\n",
        "    if colorspace_lower not in ['rgb', 'gray', 'grey', 'lab']:\n",
        "        raise ValueError(f'`colorspace` value of {colorspace} not recognized')\n",
        "\n",
        "    filename = os.path.join(data_dir, 'rgb01.npz')\n",
        "    print(f'loading {filename}')\n",
        "    tmp = np.load(os.path.join(data_dir, 'rgb01.npz'), allow_pickle=True)\n",
        "\n",
        "    images = tmp['rgb_data']\n",
        "    if colorspace_lower == 'rgb':\n",
        "        pass\n",
        "    elif colorspace_lower in ['gray', 'grey']:\n",
        "        images = np.mean(images, axis=-1)\n",
        "    elif colorspace_lower == 'lab':\n",
        "        images = rgb2lab(images)\n",
        "\n",
        "    labels = tmp['labels']\n",
        "    \n",
        "    label_to_str = tmp['label_str']\n",
        "    label_to_str = label_to_str.tolist() # Convert label_to_str into a dict\n",
        "\n",
        "    print('Loaded images with shape {}'.format(images.shape))\n",
        "    del tmp\n",
        "\n",
        "    for ii in range(2,6):\n",
        "        filename = os.path.join(data_dir, f'rgb0{ii}.npz')\n",
        "        print(f'loading {filename}')\n",
        "        tmp = np.load(filename, allow_pickle=True)\n",
        "\n",
        "        these_images = tmp['rgb_data']\n",
        "        if colorspace_lower == 'rgb':\n",
        "            pass\n",
        "        elif (colorspace_lower == 'gray') or (colorspace_lower == 'grey'):\n",
        "            these_images = np.mean(these_images, axis=-1)\n",
        "        elif colorspace_lower == 'lab':\n",
        "            these_images = rgb2lab(these_images)\n",
        "\n",
        "        images = np.append(images, these_images, axis=0)\n",
        "        labels = np.append(labels, tmp['labels'], axis=0)\n",
        "\n",
        "        print('Loaded images with shape {}'.format(these_images.shape))\n",
        "        del tmp\n",
        "\n",
        "    images = images.astype(np.float)\n",
        "    print('Final image data shape: {}'.format(images.shape))\n",
        "    print('Number of image labels: {}'.format(*labels.shape))\n",
        "\n",
        "    return images, labels"
      ],
      "execution_count": 10,
      "outputs": []
    },
    {
      "cell_type": "code",
      "metadata": {
        "id": "p1stCgsGwM3h",
        "colab_type": "code",
        "colab": {
          "base_uri": "https://localhost:8080/",
          "height": 225
        },
        "outputId": "fcda89c6-0ef4-4c9f-e8fa-e75644b7cf0b"
      },
      "source": [
        "# Load in the images and convert them to L*a*b* (see function from tutorial)\n",
        "images_color, labels = load_images('lab') # <-- Come back and try in RGB colorspace\n",
        "num_images, num_y, num_x, num_ch = images_color.shape"
      ],
      "execution_count": 11,
      "outputs": [
        {
          "output_type": "stream",
          "text": [
            "loading /content/crc_data/rgb01.npz\n",
            "Loaded images with shape (1000, 150, 150, 3)\n",
            "loading /content/crc_data/rgb02.npz\n",
            "Loaded images with shape (1000, 150, 150, 3)\n",
            "loading /content/crc_data/rgb03.npz\n",
            "Loaded images with shape (1000, 150, 150, 3)\n",
            "loading /content/crc_data/rgb04.npz\n",
            "Loaded images with shape (1000, 150, 150, 3)\n",
            "loading /content/crc_data/rgb05.npz\n",
            "Loaded images with shape (1000, 150, 150, 3)\n",
            "Final image data shape: (5000, 150, 150, 3)\n",
            "Number of image labels: 5000\n"
          ],
          "name": "stdout"
        }
      ]
    },
    {
      "cell_type": "code",
      "metadata": {
        "id": "nTEfb-vByEjt",
        "colab_type": "code",
        "colab": {}
      },
      "source": [
        "# Initialize an array to store the features\n",
        "num_features = 3*num_ch     # We are computing three features per channel\n",
        "hist_features = np.zeros((num_images, num_features))\n",
        "# Compute histogram features\n",
        "for i_img in range(num_images):\n",
        "    # Compute the mean of each of the image color channels. You are going to\n",
        "    # need to grab the current image (using `i_img`), then grab all of the\n",
        "    # rows and columns (using the `:` slicing operator), and grab one of\n",
        "    # the three color channels on which to compute the mean value.\n",
        "    #\n",
        "    # You can use `np.mean` on the flattened channel data for this image\n",
        "    hist_features[i_img, 0] = np.mean(images_color[i_img, :, :, 0]) # <-- populate with proper argument\n",
        "    hist_features[i_img, 1] = np.mean(images_color[i_img, :, :, 1]) # <-- populate with proper argument\n",
        "    hist_features[i_img, 2] = np.mean(images_color[i_img, :, :, 2]) # <-- populate with proper argument\n",
        "\n",
        "    # Compute the standard deviation of each of the image color channels\n",
        "    # You can use `np.std` on the same, flattened channel data for this image\n",
        "    hist_features[i_img, 3] = np.std(images_color[i_img, :, :, 0]) # <-- populate with proper function *and* argument\n",
        "    hist_features[i_img, 4] = np.std(images_color[i_img, :, :, 1]) # <-- populate with proper function *and* argument\n",
        "    hist_features[i_img, 5] = np.std(images_color[i_img, :, :, 0]) # <-- populate with proper function *and* argument\n",
        "\n",
        "    # Compute the \"second moment\" (variance) of each of the image color channels\n",
        "    # You can use `np.var` on the same, flattened channel data for this image\n",
        "    hist_features[i_img, 6] = np.var(images_color[i_img, :, :, 0])  # <-- populate with proper function *and* argument\n",
        "    hist_features[i_img, 7] = np.var(images_color[i_img, :, :, 1])  # <-- populate with proper function *and* argument\n",
        "    hist_features[i_img, 8] = np.var(images_color[i_img, :, :, 2]) # <-- populate with proper function *and* argument\n"
      ],
      "execution_count": 12,
      "outputs": []
    },
    {
      "cell_type": "code",
      "metadata": {
        "id": "5g2Va8kUyG-i",
        "colab_type": "code",
        "colab": {}
      },
      "source": [
        "# Apply a train_test_split here\n",
        "X_train, X_test, y_train, y_test = train_test_split(hist_features, labels, test_size=0.25)"
      ],
      "execution_count": 13,
      "outputs": []
    },
    {
      "cell_type": "code",
      "metadata": {
        "id": "-15x6-1DyUha",
        "colab_type": "code",
        "colab": {}
      },
      "source": [
        "# Apply the (*much faster*) scikit-learn Kmeans algorithm to get the image\n",
        "# data clustering (You can experiment with different K-means algorithms (auto,\n",
        "# full, or elkan)). You can learn more about these here:\n",
        "# https://scikit-learn.org/stable/modules/generated/sklearn.cluster.KMeans.html\n",
        "\n",
        "# Cluster the images using the KMeans algorithm\n",
        "kmeans_object = KMeans(algorithm='elkan', n_clusters=8, max_iter=1)\n",
        "kmeans_estimator = kmeans_object.fit(X_train) "
      ],
      "execution_count": 14,
      "outputs": []
    },
    {
      "cell_type": "code",
      "metadata": {
        "id": "6aLMCbMdz7ZS",
        "colab_type": "code",
        "colab": {}
      },
      "source": [
        "# Predict using Kmeans estimator\n",
        "preds = kmeans_estimator.predict(X_test)"
      ],
      "execution_count": 15,
      "outputs": []
    },
    {
      "cell_type": "markdown",
      "metadata": {
        "id": "39OTzd64limS",
        "colab_type": "text"
      },
      "source": [
        "Now that we have actually made our predictions for which cluster each of the test images belongs to, we need to convert cluster numbers into classification label numbers. To do that, we will examine the most *common* label within each cluster and assume that is the correct label to associate with the cluster."
      ]
    },
    {
      "cell_type": "code",
      "metadata": {
        "id": "i5TC-Lc46ZiS",
        "colab_type": "code",
        "colab": {
          "base_uri": "https://localhost:8080/",
          "height": 156
        },
        "outputId": "650e63b3-82c3-487d-d9b3-43a78f165571"
      },
      "source": [
        "# Initialize an array to store the classification prediction labels\n",
        "pred_labels = np.zeros_like(preds)\n",
        "\n",
        "# Loop over each cluster\n",
        "for icluster in range(8):\n",
        "    # Build a mask indicating where the cluster number is equal to `icluster`\n",
        "    mask = (preds == icluster)\n",
        "\n",
        "    # Handle the cases where this cluster was never predicted for test data\n",
        "    if np.sum(mask) == 0:\n",
        "        print(f'Cluster {icluster} is not populated by test data')\n",
        "        continue\n",
        "\n",
        "    # Assign the *most common* label to *this*\n",
        "    this_label = mode(y_test[mask]).mode[0]\n",
        "    pred_labels[mask] = this_label\n",
        "\n",
        "    # Printe the association being made for some transparency to the user\n",
        "    print(f'Cluster {icluster} gets label {this_label}')\n",
        "    "
      ],
      "execution_count": 16,
      "outputs": [
        {
          "output_type": "stream",
          "text": [
            "Cluster 0 gets label 7\n",
            "Cluster 1 gets label 1\n",
            "Cluster 2 gets label 6\n",
            "Cluster 3 gets label 4\n",
            "Cluster 4 gets label 5\n",
            "Cluster 5 gets label 3\n",
            "Cluster 6 gets label 1\n",
            "Cluster 7 gets label 2\n"
          ],
          "name": "stdout"
        }
      ]
    },
    {
      "cell_type": "code",
      "metadata": {
        "id": "rQOTrc0Y58Im",
        "colab_type": "code",
        "colab": {
          "base_uri": "https://localhost:8080/",
          "height": 35
        },
        "outputId": "07fdd0b2-3710-47da-e736-b53fe6360157"
      },
      "source": [
        "# Compute the accuracy\n",
        "acc_hist = accuracy_score(y_test, pred_labels)\n",
        "print(acc_hist)"
      ],
      "execution_count": 17,
      "outputs": [
        {
          "output_type": "stream",
          "text": [
            "0.4168\n"
          ],
          "name": "stdout"
        }
      ]
    },
    {
      "cell_type": "markdown",
      "metadata": {
        "id": "ijkPy_60mhtb",
        "colab_type": "text"
      },
      "source": [
        "Another metric worth considering is the \"completeness score.\" This is a measure of how frequently the images of a single class were assigned to *multiple* clusters. You can read more about this metric at the scikit-learn page for [completeness score](https://scikit-learn.org/stable/modules/generated/sklearn.metrics.completeness_score.html)."
      ]
    },
    {
      "cell_type": "code",
      "metadata": {
        "id": "dxPSCjuuyZ1H",
        "colab_type": "code",
        "colab": {
          "base_uri": "https://localhost:8080/",
          "height": 35
        },
        "outputId": "6bae19f8-9ff3-426f-e1e4-256947d4f990"
      },
      "source": [
        "# Compute the completeness score\n",
        "comp_hist = completeness_score(y_test, pred_labels)\n",
        "print(comp_hist)"
      ],
      "execution_count": 18,
      "outputs": [
        {
          "output_type": "stream",
          "text": [
            "0.3614548494006887\n"
          ],
          "name": "stdout"
        }
      ]
    },
    {
      "cell_type": "markdown",
      "metadata": {
        "id": "iBkFO0xHpbGS",
        "colab_type": "text"
      },
      "source": [
        "If you're getting tired of waiting for KMeans to run, you can use the MiniBatchKMeans function to perform KMeans using batched sub-sets of the training data. This will run significantly faster at the cost of some accuracy. You will also need to go back and change all of the `KMeans()` calls to `MiniBatchKMeans()`."
      ]
    },
    {
      "cell_type": "code",
      "metadata": {
        "id": "6ixxInzN5uV9",
        "colab_type": "code",
        "colab": {}
      },
      "source": [
        " # A faster, potentially less accurate Kmeans\n",
        " from sklearn.cluster import MiniBatchKMeans"
      ],
      "execution_count": 19,
      "outputs": []
    },
    {
      "cell_type": "markdown",
      "metadata": {
        "id": "EZrLHVIB1Zfx",
        "colab_type": "text"
      },
      "source": [
        "### Repeat in RGB\n",
        "These histogram features can also be computed using RGB colorspace rather than L* a* b* colorspace. How does that affect the accuracy of the classification?\n",
        "\n",
        "The RGB colorspace did worse than the Lab colorspace by 4% accuracy"
      ]
    },
    {
      "cell_type": "markdown",
      "metadata": {
        "id": "jemScTEvycxX",
        "colab_type": "text"
      },
      "source": [
        "## Local Binary Patterns\n",
        "\n",
        "Another feature extraction procedure to consider involves the computation of the \"Local Binary Pattern.\" This procedure computes a local representation of texture by comparing a pixel with its surrounding pixels and converting these neigbor pixel values into binary digits. You can read more about Local Binary Patterns (LBP) here:\n",
        "\n",
        "https://www.pyimagesearch.com/2015/12/07/local-binary-patterns-with-python-opencv/\n",
        "\n",
        "And here:\n",
        "\n",
        "https://scikit-image.org/docs/stable/auto_examples/features_detection/plot_local_binary_pattern.html\n",
        "\n",
        "The instructors apologize that this section does not provide a greater amount of detail regarding the uses of local binary pattern, but here are some guiding concepts.\n",
        "\n",
        "1. The output of the local binary pattern function has the same shape as the\n",
        "\n",
        "2. A specific value of a local binary pattern will correspond to different texture shapes (e.g., corners, edges, etc...)\n",
        "\n",
        "3. You can check the documentation above to get a clearer sense of which output values from the local binary pattern function correspond to these texture shapes\n",
        "\n",
        "4. You may use the numpy.histogram function to count up the number of times a certain, and these \"number of occurences\" values could serve as your reduced-dimensionality features.\n",
        "\n",
        "5. You can combine the texture information from the co-occurence matrix and the local binary pattern to produce a potentially more robust feature space."
      ]
    },
    {
      "cell_type": "code",
      "metadata": {
        "id": "5tbOxfACystN",
        "colab_type": "code",
        "colab": {
          "base_uri": "https://localhost:8080/",
          "height": 225
        },
        "outputId": "53b29b1d-5e6a-44d7-9319-e9498ba13cb0"
      },
      "source": [
        "# Clear out the old data\n",
        "try:\n",
        "    del X_train_ab, X_test_ab, y_train, y_test\n",
        "except:\n",
        "    pass\n",
        "try:\n",
        "    del images_color\n",
        "except:\n",
        "    pass\n",
        "\n",
        "# *** OKAY, YOUR TURN! ***\n",
        "# Refer to the examples above and in the tutorial to load the RGB images\n",
        "images_color, labels = load_images() # <-- Use the loading function\n",
        "\n",
        "# Grab just the red channel since that's where most of the information is\n",
        "images_red = images_color[:, :, :, 0] # <-- Grab just the *red* channel of these images\n",
        "del images_color"
      ],
      "execution_count": 20,
      "outputs": [
        {
          "output_type": "stream",
          "text": [
            "loading /content/crc_data/rgb01.npz\n",
            "Loaded images with shape (1000, 150, 150, 3)\n",
            "loading /content/crc_data/rgb02.npz\n",
            "Loaded images with shape (1000, 150, 150, 3)\n",
            "loading /content/crc_data/rgb03.npz\n",
            "Loaded images with shape (1000, 150, 150, 3)\n",
            "loading /content/crc_data/rgb04.npz\n",
            "Loaded images with shape (1000, 150, 150, 3)\n",
            "loading /content/crc_data/rgb05.npz\n",
            "Loaded images with shape (1000, 150, 150, 3)\n",
            "Final image data shape: (5000, 150, 150, 3)\n",
            "Number of image labels: 5000\n"
          ],
          "name": "stdout"
        }
      ]
    },
    {
      "cell_type": "code",
      "metadata": {
        "id": "m1n1hQyjyis8",
        "colab_type": "code",
        "colab": {}
      },
      "source": [
        "# Initialize array to store features\n",
        "num_images, num_y, num_x = images_red.shape\n",
        "lbp_features = np.zeros_like(images_red)\n",
        "\n",
        "# Loop over each image and compute the local binary pattern features\n",
        "for i_img in range(num_images):\n",
        "    lbp_features[i_img] = local_binary_pattern(images_red[i_img], P=16, R=2,\n",
        "                                               method='uniform')\n",
        "\n",
        "# Flatten into a vector\n",
        "lbp_features = lbp_features.reshape((num_images, num_y*num_x))"
      ],
      "execution_count": 21,
      "outputs": []
    },
    {
      "cell_type": "code",
      "metadata": {
        "id": "L8FqlAA20BGC",
        "colab_type": "code",
        "colab": {}
      },
      "source": [
        "# Apply train_test_split\n",
        "X_train, X_test, y_train, y_test = train_test_split(lbp_features, labels)"
      ],
      "execution_count": 22,
      "outputs": []
    },
    {
      "cell_type": "code",
      "metadata": {
        "id": "Bi5TMu2vz01H",
        "colab_type": "code",
        "colab": {}
      },
      "source": [
        "# KMeans fit\n",
        "kmeans = KMeans(n_clusters=8, max_iter=10).fit(X_train)"
      ],
      "execution_count": 23,
      "outputs": []
    },
    {
      "cell_type": "code",
      "metadata": {
        "id": "CCfbCGAbz2kD",
        "colab_type": "code",
        "colab": {}
      },
      "source": [
        "# KMeans predict\n",
        "preds = kmeans.predict(X_test)"
      ],
      "execution_count": 24,
      "outputs": []
    },
    {
      "cell_type": "code",
      "metadata": {
        "id": "9mfWSh9W0N_P",
        "colab_type": "code",
        "colab": {
          "base_uri": "https://localhost:8080/",
          "height": 156
        },
        "outputId": "b39e40b4-7525-4a8d-9956-cca28668151d"
      },
      "source": [
        "# Apply clustering estimation\n",
        "# Initialize an array to store the classification prediction labels\n",
        "pred_labels = np.zeros_like(preds)\n",
        "\n",
        "# Loop over each cluster\n",
        "for icluster in range(8):\n",
        "    # Build a mask indicating where the cluster number is equal to `icluster`\n",
        "    mask = (preds == icluster)\n",
        "\n",
        "    # Handle the cases where this cluster was never predicted for test data\n",
        "    if np.sum(mask) == 0:\n",
        "        print(f'Cluster {icluster} is not populated by test data')\n",
        "        continue\n",
        "\n",
        "    # Assign the *most common* label to *this*\n",
        "    this_label = mode(y_test[mask]).mode[0]\n",
        "    pred_labels[mask] = this_label\n",
        "\n",
        "    # Printe the association being made for some transparency to the user\n",
        "    print(f'Cluster {icluster} gets label {this_label}')\n",
        "    "
      ],
      "execution_count": 25,
      "outputs": [
        {
          "output_type": "stream",
          "text": [
            "Cluster 0 is not populated by test data\n",
            "Cluster 1 gets label 0\n",
            "Cluster 2 gets label 6\n",
            "Cluster 3 is not populated by test data\n",
            "Cluster 4 is not populated by test data\n",
            "Cluster 5 is not populated by test data\n",
            "Cluster 6 gets label 7\n",
            "Cluster 7 gets label 5\n"
          ],
          "name": "stdout"
        }
      ]
    },
    {
      "cell_type": "code",
      "metadata": {
        "id": "te3rv7iM0QXS",
        "colab_type": "code",
        "colab": {
          "base_uri": "https://localhost:8080/",
          "height": 35
        },
        "outputId": "0f514fb3-5e7e-44ec-bc68-9ee9f8657442"
      },
      "source": [
        "# Compute the accuracy\n",
        "acc_hist = accuracy_score(y_test, pred_labels)\n",
        "print(acc_hist)"
      ],
      "execution_count": 26,
      "outputs": [
        {
          "output_type": "stream",
          "text": [
            "0.3944\n"
          ],
          "name": "stdout"
        }
      ]
    },
    {
      "cell_type": "code",
      "metadata": {
        "id": "ETchbC2HgwjC",
        "colab_type": "code",
        "colab": {
          "base_uri": "https://localhost:8080/",
          "height": 225
        },
        "outputId": "f140271c-dc1c-4bb2-bcae-921bc3929733"
      },
      "source": [
        "images_gray, labels = load_images(colorspace='gray')\n",
        "num_images = len(labels)\n",
        "\n",
        " #Initialize an array in which to store the image features\n",
        "comatrix_features = np.array([])\n",
        "\n",
        "# Loop over each image in the training set\n",
        "for k in range(num_images):\n",
        "  # Compute the grey-lever co-occurence matrix for this image\n",
        "  # NOTE: For some reason the scikit-image.greycomatrix function specifies pixel\n",
        "  # offsets in terms of distance and angles. Here we use a distance of 1 pixel\n",
        "  # and angular offsets of 0 and pi/2 to specify the offsets (dx = 1, dy = 0)\n",
        "  # and (dx = 0, dy = 1).\n",
        "  comatrix = greycomatrix(images_gray[k].astype('int'), distances=[1],\n",
        "                        angles=[0, np.pi/2], levels = 256)\n",
        "  comatrix_features = np.append(comatrix_features, greycoprops(comatrix, 'contrast'))\n",
        "  comatrix_features = np.append(comatrix_features, greycoprops(comatrix, 'dissimilarity'))\n",
        "  comatrix_features = np.append(comatrix_features, greycoprops(comatrix, 'homogeneity'))\n",
        "  comatrix_features = np.append(comatrix_features, greycoprops(comatrix, 'energy'))\n",
        "  comatrix_features = np.append(comatrix_features, greycoprops(comatrix, 'correlation'))\n",
        "  comatrix_features = np.append(comatrix_features, greycoprops(comatrix, 'ASM'))\n",
        "\n",
        "# Reshape the array of features so that first axis is the image index and second\n",
        "# axis is the feature index.\n",
        "comatrix_features = comatrix_features.reshape(num_images, 12) #we have 2 different of sets from above for six features"
      ],
      "execution_count": 27,
      "outputs": [
        {
          "output_type": "stream",
          "text": [
            "loading /content/crc_data/rgb01.npz\n",
            "Loaded images with shape (1000, 150, 150)\n",
            "loading /content/crc_data/rgb02.npz\n",
            "Loaded images with shape (1000, 150, 150)\n",
            "loading /content/crc_data/rgb03.npz\n",
            "Loaded images with shape (1000, 150, 150)\n",
            "loading /content/crc_data/rgb04.npz\n",
            "Loaded images with shape (1000, 150, 150)\n",
            "loading /content/crc_data/rgb05.npz\n",
            "Loaded images with shape (1000, 150, 150)\n",
            "Final image data shape: (5000, 150, 150)\n",
            "Number of image labels: 5000\n"
          ],
          "name": "stdout"
        }
      ]
    },
    {
      "cell_type": "code",
      "metadata": {
        "id": "MzwMtakRhP3Q",
        "colab_type": "code",
        "colab": {}
      },
      "source": [
        "# Split the data into training and testing sets\n",
        "# NOTE: using convention of \"X\" as data/features and \"y\" as label\n",
        "tmp = train_test_split(np.arange(num_images), comatrix_features, labels, test_size=0.25)\n",
        "inds_train, inds_test, X_train_comatrix, X_test_comatrix, y_train, y_test = tmp"
      ],
      "execution_count": 28,
      "outputs": []
    },
    {
      "cell_type": "code",
      "metadata": {
        "id": "Xs0nEuf3hYiZ",
        "colab_type": "code",
        "colab": {}
      },
      "source": [
        "# Cluster the images using the KMeans algorithm\n",
        "kmeans_estimator = KMeans(n_clusters=8, max_iter=10).fit(X_train_comatrix)"
      ],
      "execution_count": 29,
      "outputs": []
    },
    {
      "cell_type": "code",
      "metadata": {
        "id": "qtzC59W_he62",
        "colab_type": "code",
        "colab": {}
      },
      "source": [
        "# Make predictions for the test images based on the clustering\n",
        "preds = kmeans_estimator.predict(X_test_comatrix)"
      ],
      "execution_count": 30,
      "outputs": []
    },
    {
      "cell_type": "code",
      "metadata": {
        "id": "lTaLX211hvn5",
        "colab_type": "code",
        "colab": {}
      },
      "source": [
        "# Assign Class prediction to match IDs\n",
        "pred_labels = np.zeros_like(preds)\n",
        "mask = pred_labels.astype(bool)\n",
        "\n",
        "# Loop over each cluster\n",
        "for icluster in range(8):\n",
        "    # Build a mask indicating which test images have this cluster number\n",
        "    mask = (preds == icluster)\n",
        "\n",
        "    # Grab the *most common* label associated with these test images\n",
        "    pred_labels[mask] = mode(y_test[mask]).mode[0]"
      ],
      "execution_count": 31,
      "outputs": []
    },
    {
      "cell_type": "code",
      "metadata": {
        "id": "AbW9KVDNiAmD",
        "colab_type": "code",
        "colab": {
          "base_uri": "https://localhost:8080/",
          "height": 173
        },
        "outputId": "095230d9-1f8a-4d23-99a1-a6993ca6629f"
      },
      "source": [
        "acc = accuracy_score(y_test, pred_labels)\n",
        "mat = confusion_matrix(y_test, pred_labels)\n",
        "print(acc)\n",
        "print(mat)"
      ],
      "execution_count": 32,
      "outputs": [
        {
          "output_type": "stream",
          "text": [
            "0.4048\n",
            "[[ 28  20   0   0  45   9  29  31]\n",
            " [ 10  53   0   0  64   0   9   8]\n",
            " [ 28  44   0   0  46   0   9  27]\n",
            " [  8  52   0   0  46   1   7  24]\n",
            " [ 25  21   0   0  90   0  23   8]\n",
            " [  0   0   0   0   0 172   0   1]\n",
            " [  9  20   0   0  45   0  82   1]\n",
            " [  0   9   0   0   0  65   0  81]]\n"
          ],
          "name": "stdout"
        }
      ]
    },
    {
      "cell_type": "markdown",
      "metadata": {
        "id": "9V93vjBr0Wkj",
        "colab_type": "text"
      },
      "source": [
        "# Conclusion\n",
        "In the tutorial, we found that the Kmeans algorithm was able operate on the input data to classify the test images with the following accuracies:\n",
        "\n",
        "* Grayscale accuracy = 40.2%\n",
        "\n",
        "* L* a* b* accuracy = 40.5%\n",
        "(based on a* and b* color channels of images)\n",
        "\n",
        "* co-occurence matrix accuracy = 35.76%\n",
        "\n",
        "Use this space to tabulate the accuracies for the additional features explored in this exercise notebook.\n",
        "\n",
        "* Histogram L* a* b* = 0.3912???\n",
        "\n",
        "* Histogram RGB = 37%???\n",
        "\n",
        "* Local binary pattern = 41.84%\n",
        "\n",
        "* Co-occurence matrix with different parameters = 38.24 (0,1) (1,0)???\n",
        "\n",
        "Which features provided highest accuracy? Why do you think this is?\n",
        "\n",
        "(**YOUR ANSWER HERE**)\n",
        "The LBP because it looks at the intensity(lightness of the other graphs) right next to it, in a circle, rather than check it it has a certain level lightness from the offset dx dy from angle and distance."
      ]
    },
    {
      "cell_type": "code",
      "metadata": {
        "id": "BxMlkIx5htxj",
        "colab_type": "code",
        "colab": {}
      },
      "source": [
        ""
      ],
      "execution_count": 32,
      "outputs": []
    }
  ]
}